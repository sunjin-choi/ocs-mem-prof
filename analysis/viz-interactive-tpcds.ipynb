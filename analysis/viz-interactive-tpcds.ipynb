{
 "cells": [
  {
   "cell_type": "code",
   "execution_count": 2,
   "id": "f11ab436-e4ae-4b77-ba6f-46ad872711f9",
   "metadata": {},
   "outputs": [],
   "source": [
    "import sys\n",
    "\n",
    "import pandas as pd\n",
    "import numpy as np\n",
    "import matplotlib.pyplot as plt\n",
    "import mpl_toolkits.mplot3d  # noqa: F401\n",
    "\n",
    "from sklearn.cluster import OPTICS\n",
    "from sklearn import datasets\n",
    "from sklearn.cluster import KMeans\n",
    "\n",
    "from viztools import draw_scatter_plot, data_loader"
   ]
  },
  {
   "cell_type": "code",
   "execution_count": null,
   "id": "3fcee8c7-6fd9-49a6-a6d0-f3e5134cc2db",
   "metadata": {},
   "outputs": [
    {
     "name": "stdout",
     "output_type": "stream",
     "text": [
      "full trace plot\n"
     ]
    }
   ],
   "source": [
    "trace_dir = \"/tmp/tpcds-trace\"\n",
    "\n",
    "machine_name = \"n1-standard-8\"\n",
    "query_data = \"scale_1_rngseed_0\"\n",
    "query_limit = False\n",
    "query_name = \"3\"\n",
    "\n",
    "data = data_loader(trace_dir, query_name, query_data, query_limit, machine_name)\n",
    "fig = draw_scatter_plot(data, False, -1, -1, True, 10)"
   ]
  },
  {
   "cell_type": "code",
   "execution_count": null,
   "id": "775c94bf-29cb-4628-b0a7-adf4e0a6ced1",
   "metadata": {},
   "outputs": [],
   "source": []
  }
 ],
 "metadata": {
  "kernelspec": {
   "display_name": "Python 3 (ipykernel)",
   "language": "python",
   "name": "python3"
  },
  "language_info": {
   "codemirror_mode": {
    "name": "ipython",
    "version": 3
   },
   "file_extension": ".py",
   "mimetype": "text/x-python",
   "name": "python",
   "nbconvert_exporter": "python",
   "pygments_lexer": "ipython3",
   "version": "3.9.18"
  }
 },
 "nbformat": 4,
 "nbformat_minor": 5
}
